{
  "nbformat": 4,
  "nbformat_minor": 0,
  "metadata": {
    "colab": {
      "name": "Untitled13.ipynb",
      "provenance": [],
      "authorship_tag": "ABX9TyOj6kDy78DHJguoobV1+hHJ",
      "include_colab_link": true
    },
    "kernelspec": {
      "name": "python3",
      "display_name": "Python 3"
    },
    "language_info": {
      "name": "python"
    }
  },
  "cells": [
    {
      "cell_type": "markdown",
      "metadata": {
        "id": "view-in-github",
        "colab_type": "text"
      },
      "source": [
        "<a href=\"https://colab.research.google.com/github/JoseIvanRamirezRios/Clase-15-de-oct/blob/main/Laberinto.ipynb\" target=\"_parent\"><img src=\"https://colab.research.google.com/assets/colab-badge.svg\" alt=\"Open In Colab\"/></a>"
      ]
    },
    {
      "cell_type": "code",
      "metadata": {
        "id": "LUf4mi5jucJX"
      },
      "source": [
        "class StackADT:\n",
        "   def __init__( self ):\n",
        "     self.data = list()\n",
        "     self.tope = 0\n",
        "\n",
        "   def is_empty( self ):\n",
        "      return self.tope == 0\n",
        "\n",
        "   def length( self ):\n",
        "      return self.tope -1\n",
        "\n",
        "   def pop( self ):\n",
        "      if not self.is_empty():\n",
        "       return self.data.pop()\n",
        "      self.tope -= 1\n",
        "\n",
        "   def peek( self ):\n",
        "     return self.data[ self.tope - 1 ]\n",
        "\n",
        "   def push( self , value ):\n",
        "      self.data.append( value )\n",
        "      self.tope +=1\n",
        "\n",
        "   def to_string( self ):\n",
        "     print(\"Estado de la pila es:\")\n",
        "     for elem in self.data[ : :-1]:\n",
        "      print(f\"| { elem } |\") "
      ],
      "execution_count": 18,
      "outputs": []
    },
    {
      "cell_type": "code",
      "metadata": {
        "id": "Z9glGNkLmaOJ"
      },
      "source": [
        "class Array2D():\n",
        "  def __init__(self, ren, col):\n",
        "    self.__columnas = col\n",
        "    self.__renglones = ren\n",
        "    self.__data = [[ 0 for i in range(col)]for i in range (ren)]\n",
        "\n",
        "  def to_string(self):\n",
        "    for i in range(self.__renglones):\n",
        "      print(self.__data[i])\n",
        "\n",
        "  def clear(self, dato):\n",
        "    for i in range (self.__renglones):\n",
        "      for x in range(self.__columnas):\n",
        "        self.__data[i][x] = dato\n",
        "\n",
        "  def get_row_size(self):\n",
        "    return self.__renglones\n",
        "\n",
        "  def get_col_size(self):\n",
        "    return self.__columnas\n",
        "\n",
        "  def set_item(self,ren,col,dato):\n",
        "    self.__data[ren][col] = dato\n",
        "\n",
        "  def get_item(self,ren,col):\n",
        "    return self.__data[ren][col]"
      ],
      "execution_count": 1,
      "outputs": []
    },
    {
      "cell_type": "code",
      "metadata": {
        "id": "yL5Uqwd7puwk"
      },
      "source": [
        "class Laberintoadt:\n",
        "   def __init__( self , archivo):\n",
        "      self.laberinto = None  #Array2D\n",
        "      self.salida = None\n",
        "      self.camino = StackADT()\n",
        "      self.inicializa(archivo)\n",
        "      print(\"Stack\")\n",
        "\n",
        "      \"\"\"\n",
        "      P = Pared\n",
        "      C = Corredor\n",
        "      E = Entrada\n",
        "      S = Salida\n",
        "      X = Ya visitado\n",
        "      \"\"\"\n",
        "    \n",
        "   def inicializa(self , archivo):\n",
        "       entrada = open( archivo,'rt')\n",
        "       self.laberinto = Array2D(int(entrada.readline().strip()) ,int(entrada.readline().strip()) )  \n",
        "       self.laberinto.clear('p')\n",
        "       lineas = entrada.readlines()\n",
        "       #print(\"Lineas:\")\n",
        "       #print(lineas)\n",
        "       for r in range( len(lineas)):\n",
        "           lineaBis = linea[r].strip().split(',')\n",
        "           for c in range( len(lineaBis)):\n",
        "              self.laberinto.set_item(r,c,lineaBis[c])\n",
        "        # buscar la entrada\n",
        "       for r in range( self.laberinto.get_row_size() ):\n",
        "           for c in range(self.laberinto.get_col_size()):\n",
        "               if self.laberinto.get_item(r,c) == 'E':\n",
        "                  self.camino.push([r,c])\n",
        "\n"
      ],
      "execution_count": 36,
      "outputs": []
    },
    {
      "cell_type": "code",
      "metadata": {
        "colab": {
          "base_uri": "https://localhost:8080/",
          "height": 320
        },
        "id": "Of5rqvP_t6aX",
        "outputId": "291f7c64-0100-47ce-83db-6c5d76c753e5"
      },
      "source": [
        "juego = Laberintoadt('entrada.txt')"
      ],
      "execution_count": 37,
      "outputs": [
        {
          "output_type": "error",
          "ename": "ValueError",
          "evalue": "ignored",
          "traceback": [
            "\u001b[0;31m---------------------------------------------------------------------------\u001b[0m",
            "\u001b[0;31mValueError\u001b[0m                                Traceback (most recent call last)",
            "\u001b[0;32m<ipython-input-37-6afaef0b8ea6>\u001b[0m in \u001b[0;36m<module>\u001b[0;34m()\u001b[0m\n\u001b[0;32m----> 1\u001b[0;31m \u001b[0mjuego\u001b[0m \u001b[0;34m=\u001b[0m \u001b[0mLaberintoadt\u001b[0m\u001b[0;34m(\u001b[0m\u001b[0;34m'entrada.txt'\u001b[0m\u001b[0;34m)\u001b[0m\u001b[0;34m\u001b[0m\u001b[0;34m\u001b[0m\u001b[0m\n\u001b[0m",
            "\u001b[0;32m<ipython-input-36-733fbf9fd570>\u001b[0m in \u001b[0;36m__init__\u001b[0;34m(self, archivo)\u001b[0m\n\u001b[1;32m      4\u001b[0m       \u001b[0mself\u001b[0m\u001b[0;34m.\u001b[0m\u001b[0msalida\u001b[0m \u001b[0;34m=\u001b[0m \u001b[0;32mNone\u001b[0m\u001b[0;34m\u001b[0m\u001b[0;34m\u001b[0m\u001b[0m\n\u001b[1;32m      5\u001b[0m       \u001b[0mself\u001b[0m\u001b[0;34m.\u001b[0m\u001b[0mcamino\u001b[0m \u001b[0;34m=\u001b[0m \u001b[0mStackADT\u001b[0m\u001b[0;34m(\u001b[0m\u001b[0;34m)\u001b[0m\u001b[0;34m\u001b[0m\u001b[0;34m\u001b[0m\u001b[0m\n\u001b[0;32m----> 6\u001b[0;31m       \u001b[0mself\u001b[0m\u001b[0;34m.\u001b[0m\u001b[0minicializa\u001b[0m\u001b[0;34m(\u001b[0m\u001b[0marchivo\u001b[0m\u001b[0;34m)\u001b[0m\u001b[0;34m\u001b[0m\u001b[0;34m\u001b[0m\u001b[0m\n\u001b[0m\u001b[1;32m      7\u001b[0m       \u001b[0mprint\u001b[0m\u001b[0;34m(\u001b[0m\u001b[0;34m\"Stack\"\u001b[0m\u001b[0;34m)\u001b[0m\u001b[0;34m\u001b[0m\u001b[0;34m\u001b[0m\u001b[0m\n\u001b[1;32m      8\u001b[0m \u001b[0;34m\u001b[0m\u001b[0m\n",
            "\u001b[0;32m<ipython-input-36-733fbf9fd570>\u001b[0m in \u001b[0;36minicializa\u001b[0;34m(self, archivo)\u001b[0m\n\u001b[1;32m     17\u001b[0m    \u001b[0;32mdef\u001b[0m \u001b[0minicializa\u001b[0m\u001b[0;34m(\u001b[0m\u001b[0mself\u001b[0m \u001b[0;34m,\u001b[0m \u001b[0marchivo\u001b[0m\u001b[0;34m)\u001b[0m\u001b[0;34m:\u001b[0m\u001b[0;34m\u001b[0m\u001b[0;34m\u001b[0m\u001b[0m\n\u001b[1;32m     18\u001b[0m        \u001b[0mentrada\u001b[0m \u001b[0;34m=\u001b[0m \u001b[0mopen\u001b[0m\u001b[0;34m(\u001b[0m \u001b[0marchivo\u001b[0m\u001b[0;34m,\u001b[0m\u001b[0;34m'rt'\u001b[0m\u001b[0;34m)\u001b[0m\u001b[0;34m\u001b[0m\u001b[0;34m\u001b[0m\u001b[0m\n\u001b[0;32m---> 19\u001b[0;31m        \u001b[0mself\u001b[0m\u001b[0;34m.\u001b[0m\u001b[0mlaberinto\u001b[0m \u001b[0;34m=\u001b[0m \u001b[0mArray2D\u001b[0m\u001b[0;34m(\u001b[0m\u001b[0mint\u001b[0m\u001b[0;34m(\u001b[0m\u001b[0mentrada\u001b[0m\u001b[0;34m.\u001b[0m\u001b[0mreadline\u001b[0m\u001b[0;34m(\u001b[0m\u001b[0;34m)\u001b[0m\u001b[0;34m.\u001b[0m\u001b[0mstrip\u001b[0m\u001b[0;34m(\u001b[0m\u001b[0;34m)\u001b[0m\u001b[0;34m)\u001b[0m \u001b[0;34m,\u001b[0m\u001b[0mint\u001b[0m\u001b[0;34m(\u001b[0m\u001b[0mentrada\u001b[0m\u001b[0;34m.\u001b[0m\u001b[0mreadline\u001b[0m\u001b[0;34m(\u001b[0m\u001b[0;34m)\u001b[0m\u001b[0;34m.\u001b[0m\u001b[0mstrip\u001b[0m\u001b[0;34m(\u001b[0m\u001b[0;34m)\u001b[0m\u001b[0;34m)\u001b[0m \u001b[0;34m)\u001b[0m\u001b[0;34m\u001b[0m\u001b[0;34m\u001b[0m\u001b[0m\n\u001b[0m\u001b[1;32m     20\u001b[0m        \u001b[0mself\u001b[0m\u001b[0;34m.\u001b[0m\u001b[0mlaberinto\u001b[0m\u001b[0;34m.\u001b[0m\u001b[0mclear\u001b[0m\u001b[0;34m(\u001b[0m\u001b[0;34m'p'\u001b[0m\u001b[0;34m)\u001b[0m\u001b[0;34m\u001b[0m\u001b[0;34m\u001b[0m\u001b[0m\n\u001b[1;32m     21\u001b[0m        \u001b[0mlineas\u001b[0m \u001b[0;34m=\u001b[0m \u001b[0mentrada\u001b[0m\u001b[0;34m.\u001b[0m\u001b[0mreadlines\u001b[0m\u001b[0;34m(\u001b[0m\u001b[0;34m)\u001b[0m\u001b[0;34m\u001b[0m\u001b[0;34m\u001b[0m\u001b[0m\n",
            "\u001b[0;31mValueError\u001b[0m: invalid literal for int() with base 10: '\\ufeff5'"
          ]
        }
      ]
    }
  ]
}