{
  "nbformat": 4,
  "nbformat_minor": 0,
  "metadata": {
    "colab": {
      "name": "Untitled20.ipynb",
      "provenance": [],
      "collapsed_sections": [],
      "authorship_tag": "ABX9TyMXvdGfPGC24MUVdcHpFQrl",
      "include_colab_link": true
    },
    "kernelspec": {
      "name": "python3",
      "display_name": "Python 3"
    },
    "language_info": {
      "name": "python"
    }
  },
  "cells": [
    {
      "cell_type": "markdown",
      "metadata": {
        "id": "view-in-github",
        "colab_type": "text"
      },
      "source": [
        "<a href=\"https://colab.research.google.com/github/JoseIvanRamirezRios/Clase-15-de-oct/blob/main/Untitled20.ipynb\" target=\"_parent\"><img src=\"https://colab.research.google.com/assets/colab-badge.svg\" alt=\"Open In Colab\"/></a>"
      ]
    },
    {
      "cell_type": "code",
      "metadata": {
        "colab": {
          "base_uri": "https://localhost:8080/"
        },
        "id": "fcKrSC7pkqDc",
        "outputId": "d8b75c9e-4d57-4f49-e9a2-639afb40a152"
      },
      "source": [
        "from math import *\n",
        "def f(x):\n",
        "    return cos(x) - pow(x,3)\n",
        "def Biseccion( a, b, tol):\n",
        "    m1 = a;\n",
        "    m = b;\n",
        "    k = 0;\n",
        "    if (f(a)*f(b)>0):\n",
        "        print(\"La funcion no cambia de signo\");\n",
        "        \n",
        "    while(abs(m1-m)>tol):\n",
        "        m1 = m;\n",
        "        m = (a+b)/2;\n",
        "        if(f(a)*f(m)<0):  \n",
        "           b = m;\n",
        "        if(f(m)*f(b)<0):  \n",
        "           a = m;\n",
        "        print('El intervalo es [',a,',',b,'] ')  \n",
        "        k = k+1;\n",
        "    print('x',k,'=',m,' es una buena aproximacion' ) \n",
        "Biseccion(0,pi,10**(-6))"
      ],
      "execution_count": null,
      "outputs": [
        {
          "output_type": "stream",
          "name": "stdout",
          "text": [
            "El intervalo es [ 0 , 1.5707963267948966 ] \n",
            "El intervalo es [ 0.7853981633974483 , 1.5707963267948966 ] \n",
            "El intervalo es [ 0.7853981633974483 , 1.1780972450961724 ] \n",
            "El intervalo es [ 0.7853981633974483 , 0.9817477042468103 ] \n",
            "El intervalo es [ 0.7853981633974483 , 0.8835729338221293 ] \n",
            "El intervalo es [ 0.8344855486097889 , 0.8835729338221293 ] \n",
            "El intervalo es [ 0.859029241215959 , 0.8835729338221293 ] \n",
            "El intervalo es [ 0.859029241215959 , 0.8713010875190441 ] \n",
            "El intervalo es [ 0.8651651643675016 , 0.8713010875190441 ] \n",
            "El intervalo es [ 0.8651651643675016 , 0.8682331259432728 ] \n",
            "El intervalo es [ 0.8651651643675016 , 0.8666991451553872 ] \n",
            "El intervalo es [ 0.8651651643675016 , 0.8659321547614444 ] \n",
            "El intervalo es [ 0.8651651643675016 , 0.865548659564473 ] \n",
            "El intervalo es [ 0.8653569119659873 , 0.865548659564473 ] \n",
            "El intervalo es [ 0.8654527857652301 , 0.865548659564473 ] \n",
            "El intervalo es [ 0.8654527857652301 , 0.8655007226648516 ] \n",
            "El intervalo es [ 0.8654527857652301 , 0.8654767542150408 ] \n",
            "El intervalo es [ 0.8654647699901354 , 0.8654767542150408 ] \n",
            "El intervalo es [ 0.8654707621025881 , 0.8654767542150408 ] \n",
            "El intervalo es [ 0.8654737581588144 , 0.8654767542150408 ] \n",
            "El intervalo es [ 0.8654737581588144 , 0.8654752561869277 ] \n",
            "El intervalo es [ 0.8654737581588144 , 0.8654745071728711 ] \n",
            "x 22 = 0.8654745071728711  es una buena aproximacion\n"
          ]
        }
      ]
    }
  ]
}