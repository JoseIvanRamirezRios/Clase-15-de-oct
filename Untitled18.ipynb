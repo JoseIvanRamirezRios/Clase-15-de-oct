{
  "nbformat": 4,
  "nbformat_minor": 0,
  "metadata": {
    "colab": {
      "name": "Untitled18.ipynb",
      "provenance": [],
      "authorship_tag": "ABX9TyMi3Zk8LNDvIbUITZNuWX20",
      "include_colab_link": true
    },
    "kernelspec": {
      "name": "python3",
      "display_name": "Python 3"
    },
    "language_info": {
      "name": "python"
    }
  },
  "cells": [
    {
      "cell_type": "markdown",
      "metadata": {
        "id": "view-in-github",
        "colab_type": "text"
      },
      "source": [
        "<a href=\"https://colab.research.google.com/github/JoseIvanRamirezRios/Clase-15-de-oct/blob/main/Untitled18.ipynb\" target=\"_parent\"><img src=\"https://colab.research.google.com/assets/colab-badge.svg\" alt=\"Open In Colab\"/></a>"
      ]
    },
    {
      "cell_type": "code",
      "metadata": {
        "id": "wSUMWxUAav5z"
      },
      "source": [
        "class ColaPrioridad:\n",
        "  def init(self):\n",
        "    self.__data = []\n",
        "    self.__length=0\n",
        "\n",
        "  def is_empty(self):\n",
        "   return self.length ==0\n",
        "    \n",
        "  def length(self):\n",
        "   return self.length\n",
        " \n",
        "  def enqueue(self , prioridad , elem):\n",
        "    existe = False\n",
        "\n",
        "    for index in range (len(self.__data) ):\n",
        "      if self.__data[index][\"p\"]== prioridad:\n",
        "              existe = True \n",
        "              indice = index \n",
        "              break\n",
        "    if existe:\n",
        "      self.__data[indice].enqueue(elem)\n",
        "    else:\n",
        "      self.__data.append({\"p\":prrioridad , \"cola\": QueueADT()})\n",
        "      self.__data[-1][\"cola\"].enqueue(elem)\n",
        "  def to_string(self):\n",
        "    for level in self.__data:\n",
        "      print(level[\"p\"] , end= \"<--\")\n",
        "      level[\"cola\"].to_sttring()"
      ],
      "execution_count": null,
      "outputs": []
    },
    {
      "cell_type": "code",
      "metadata": {
        "id": "qtsrfurWetWR"
      },
      "source": [
        "cp= ColaPrioridad()\n",
        "cp.enqueue(2 , \"A\")\n",
        "cp.enqueue(4 , \"Z\")\n",
        "cp.enqueue(1 , \"R\")\n",
        "cp.enqueue(2 , \"B\")\n",
        "cp.enqueue(4 , \"Y\")\n",
        "cp.to_string()"
      ],
      "execution_count": null,
      "outputs": []
    }
  ]
}