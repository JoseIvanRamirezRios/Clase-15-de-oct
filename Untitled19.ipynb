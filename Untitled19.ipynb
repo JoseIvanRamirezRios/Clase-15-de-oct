{
  "nbformat": 4,
  "nbformat_minor": 0,
  "metadata": {
    "colab": {
      "name": "Untitled19.ipynb",
      "provenance": [],
      "authorship_tag": "ABX9TyMGj3Pb+Iu6/Nsh84VFeMfQ",
      "include_colab_link": true
    },
    "kernelspec": {
      "name": "python3",
      "display_name": "Python 3"
    },
    "language_info": {
      "name": "python"
    }
  },
  "cells": [
    {
      "cell_type": "markdown",
      "metadata": {
        "id": "view-in-github",
        "colab_type": "text"
      },
      "source": [
        "<a href=\"https://colab.research.google.com/github/JoseIvanRamirezRios/Clase-15-de-oct/blob/main/Untitled19.ipynb\" target=\"_parent\"><img src=\"https://colab.research.google.com/assets/colab-badge.svg\" alt=\"Open In Colab\"/></a>"
      ]
    },
    {
      "cell_type": "code",
      "metadata": {
        "id": "An0CVpOvt8H6"
      },
      "source": [
        "class BinaryNode:\n",
        "     def __init__( self, value, left = None , rigth = None ):\n",
        "         self.data = value\n",
        "         self.left = left\n",
        "         self.rigth= rigth\n",
        "\n",
        "         "
      ],
      "execution_count": 1,
      "outputs": []
    },
    {
      "cell_type": "code",
      "metadata": {
        "id": "k7IE7g3ku1x9"
      },
      "source": [
        "class TernaryNode:\n",
        "    def __init__(self, value, left = None , center = None, rigth = None ):\n",
        "        self.data = value\n",
        "        self.left = left\n",
        "        self.center = center\n",
        "        self.rigth = rigth"
      ],
      "execution_count": 10,
      "outputs": []
    },
    {
      "cell_type": "code",
      "metadata": {
        "colab": {
          "base_uri": "https://localhost:8080/"
        },
        "id": "KaZsekxBvgMr",
        "outputId": "aa0f1dee-8ee0-4d2b-f59f-04fc3a4e434b"
      },
      "source": [
        "root = BinaryNode(\"R\",BinaryNode(\"C\"),BinaryNode(\"H\"))\n",
        "print( root.left.data)\n"
      ],
      "execution_count": 5,
      "outputs": [
        {
          "output_type": "stream",
          "name": "stdout",
          "text": [
            "C\n"
          ]
        }
      ]
    },
    {
      "cell_type": "code",
      "metadata": {
        "colab": {
          "base_uri": "https://localhost:8080/"
        },
        "id": "7Xai1muMwPdk",
        "outputId": "6f9d4ad3-964f-4609-cb7c-ba54a33d1a91"
      },
      "source": [
        "root = TernaryNode(4,TernaryNode(3,TernaryNode(5,left=TernaryNode(2)),\\\n",
        "                  TernaryNode(5),TernaryNode(2)), None, TernaryNode(5)) \n",
        "print(root.left.left.left.data)\n",
        "print(\".-.-.-.-.-.-.-.-\")       \n",
        "aux = root\n",
        "while aux.left != None:\n",
        "    aux = aux.left \n",
        "print(aux.data)   \n",
        "print(\".-.-.-.-.-.-.-.-\")    \n",
        "print(root.left.rigth.data)"
      ],
      "execution_count": 13,
      "outputs": [
        {
          "output_type": "stream",
          "name": "stdout",
          "text": [
            "2\n",
            ".-.-.-.-.-.-.-.-\n",
            "2\n",
            ".-.-.-.-.-.-.-.-\n",
            "2\n"
          ]
        }
      ]
    },
    {
      "cell_type": "code",
      "metadata": {
        "colab": {
          "base_uri": "https://localhost:8080/"
        },
        "id": "thjPcv8H5OhT",
        "outputId": "58441b88-7658-47bf-d9fd-d7bd611c7d47"
      },
      "source": [
        "root = BinaryNode(\"Santi\",None,\\\n",
        "                 BinaryNode(\"Jesus\",BinaryNode(\"Pedro\", None , BinaryNode(\"PedroJr\")),None))\n",
        "print(root.rigth.left.rigth.data)"
      ],
      "execution_count": 22,
      "outputs": [
        {
          "output_type": "stream",
          "name": "stdout",
          "text": [
            "PedroJr\n"
          ]
        }
      ]
    }
  ]
}