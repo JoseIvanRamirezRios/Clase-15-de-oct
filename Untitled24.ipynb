{
  "nbformat": 4,
  "nbformat_minor": 0,
  "metadata": {
    "colab": {
      "name": "Untitled24.ipynb",
      "provenance": [],
      "authorship_tag": "ABX9TyPWH04mTKn+9OmT3YYKSdo2",
      "include_colab_link": true
    },
    "kernelspec": {
      "name": "python3",
      "display_name": "Python 3"
    },
    "language_info": {
      "name": "python"
    }
  },
  "cells": [
    {
      "cell_type": "markdown",
      "metadata": {
        "id": "view-in-github",
        "colab_type": "text"
      },
      "source": [
        "<a href=\"https://colab.research.google.com/github/JoseIvanRamirezRios/Clase-15-de-oct/blob/main/Untitled24.ipynb\" target=\"_parent\"><img src=\"https://colab.research.google.com/assets/colab-badge.svg\" alt=\"Open In Colab\"/></a>"
      ]
    },
    {
      "cell_type": "code",
      "execution_count": null,
      "metadata": {
        "id": "zuF-YOxEt17n"
      },
      "outputs": [],
      "source": [
        "class Persona():\n",
        "    def __init__( self, nom ):\n",
        "        self.__nom = nom\n",
        "    \n",
        "    def get_nombre( self ):\n",
        "        return self.__nom\n",
        "\n",
        "class ADTArray2D():\n",
        "    def __init__( self, row, col ):\n",
        "        self.__row = row\n",
        "        self.__col = col\n",
        "        self.__data = [[] for x in range(self.__row)]\n",
        "        for i in range( len(self.__data) ):\n",
        "            self.__data[i] = [1 for x in range(self.__col)]\n",
        "\n",
        "    def get_info(self):\n",
        "        return self.__data\n",
        "    \n",
        "    def to_string( self ):\n",
        "        for i in range( len(self.__data) ):\n",
        "            print( self.__data[i])\n",
        "    \n",
        "    def set_item( self, row, col, dato ):\n",
        "        self.__data[row][col] = dato\n",
        "    \n",
        "    def get_item( self, row, col):\n",
        "        return self.__data[row][col]\n",
        "\n",
        "    def get_row_size( self ):\n",
        "        return self.__row\n",
        "\n",
        "    def get_col_size( self ):\n",
        "        return self.__col\n",
        "\n",
        "    def clear( self, dato ):\n",
        "        for i in range( len(self.__data) ):\n",
        "            self.__data[i] = [dato for x in range(self.__col)]\n",
        "\n",
        "    def clearCol( self, col, dato ):\n",
        "        self.__data[col] = [dato for x in range(self.__col)]"
      ]
    }
  ]
}